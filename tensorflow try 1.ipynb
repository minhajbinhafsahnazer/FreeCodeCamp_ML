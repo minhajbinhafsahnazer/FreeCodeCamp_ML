{
 "cells": [
  {
   "cell_type": "markdown",
   "id": "8c0ad561-6f7c-47cf-96d1-6cee22b33d1a",
   "metadata": {},
   "source": [
    "# Tensorflow"
   ]
  },
  {
   "cell_type": "code",
   "execution_count": 21,
   "id": "4210b4b0-0e42-4fd1-bbf2-aee112223d13",
   "metadata": {},
   "outputs": [],
   "source": [
    "import tensorflow as tf"
   ]
  },
  {
   "cell_type": "code",
   "execution_count": 8,
   "id": "08829fa1-af68-4620-8268-9f334e4a0c8a",
   "metadata": {},
   "outputs": [
    {
     "name": "stdout",
     "output_type": "stream",
     "text": [
      "<module 'tensorflow._api.v2.version' from 'C:\\\\Users\\\\mirza\\\\anaconda3\\\\Lib\\\\site-packages\\\\tensorflow\\\\_api\\\\v2\\\\version\\\\__init__.py'>\n"
     ]
    }
   ],
   "source": [
    "print(tf.version)"
   ]
  },
  {
   "cell_type": "code",
   "execution_count": 17,
   "id": "96a51670-4f01-4838-a248-8df8baebb978",
   "metadata": {},
   "outputs": [
    {
     "name": "stdout",
     "output_type": "stream",
     "text": [
      "<tf.Variable 'Variable:0' shape=() dtype=string, numpy=b'this is string'>\n"
     ]
    }
   ],
   "source": [
    "string = tf.Variable(\"this is string\",tf.string)\n",
    "number = tf.Variable(565,tf.int64)\n",
    "floating = tf.Variable(763.6353,tf.float64)"
   ]
  },
  {
   "cell_type": "code",
   "execution_count": 45,
   "id": "de7a7bb0-6ced-4643-b03a-df1744f9ac7b",
   "metadata": {},
   "outputs": [],
   "source": [
    "rank1_tensor = tf.Variable(['test'],tf.string)\n",
    "rank2_tensor = tf.Variable([[['jbsd','jbsd'],['jbsd','sewe']]],tf.string)"
   ]
  },
  {
   "cell_type": "code",
   "execution_count": 47,
   "id": "cdd04be3-840d-4646-8607-dfc7ed9b3383",
   "metadata": {},
   "outputs": [
    {
     "data": {
      "text/plain": [
       "<tf.Tensor: shape=(), dtype=int32, numpy=3>"
      ]
     },
     "execution_count": 47,
     "metadata": {},
     "output_type": "execute_result"
    }
   ],
   "source": [
    "tf.rank(rank2_tensor)"
   ]
  },
  {
   "cell_type": "code",
   "execution_count": 51,
   "id": "243edbc4-14a7-493a-a649-db7ed3cc7e0f",
   "metadata": {},
   "outputs": [
    {
     "data": {
      "text/plain": [
       "TensorShape([1, 2, 2])"
      ]
     },
     "execution_count": 51,
     "metadata": {},
     "output_type": "execute_result"
    }
   ],
   "source": [
    "rank2_tensor.shape"
   ]
  },
  {
   "cell_type": "code",
   "execution_count": 67,
   "id": "9834fcbd-cd6d-45c5-a781-93b111c738f0",
   "metadata": {},
   "outputs": [
    {
     "name": "stdout",
     "output_type": "stream",
     "text": [
      "tf.Tensor(\n",
      "[[[1. 1. 1.]\n",
      "  [1. 1. 1.]]], shape=(1, 2, 3), dtype=float32)\n"
     ]
    }
   ],
   "source": [
    "#creating tensor\n",
    "tensor1 = tf.ones([1,2,3])\n",
    "print(tensor1)"
   ]
  },
  {
   "cell_type": "code",
   "execution_count": 71,
   "id": "ea756fbf-c45a-42b9-aed4-6894a14d5ff1",
   "metadata": {},
   "outputs": [],
   "source": [
    "#reshaping tensor\n",
    "tensor2 = tf.reshape(tensor1, [2,3,1])  #we cannot add more\n"
   ]
  },
  {
   "cell_type": "code",
   "execution_count": 73,
   "id": "41a9b784-a743-4ed8-978f-e47596f1bc36",
   "metadata": {},
   "outputs": [],
   "source": [
    "tensor3 = tf.reshape(tensor2, [3,-1])  # -1 tells the tensor to calculate the size of the dimension in that place\n"
   ]
  },
  {
   "cell_type": "code",
   "execution_count": 87,
   "id": "b8c6292e-48e9-4d42-85a5-46965794cd61",
   "metadata": {},
   "outputs": [
    {
     "name": "stdout",
     "output_type": "stream",
     "text": [
      "tf.Tensor(\n",
      "[[[1. 1. 1.]\n",
      "  [1. 1. 1.]]], shape=(1, 2, 3), dtype=float32)\n",
      "\n",
      "\n",
      "tf.Tensor(\n",
      "[[[1.]\n",
      "  [1.]\n",
      "  [1.]]\n",
      "\n",
      " [[1.]\n",
      "  [1.]\n",
      "  [1.]]], shape=(2, 3, 1), dtype=float32)\n",
      "\n",
      "\n",
      "tf.Tensor(\n",
      "[[1. 1.]\n",
      " [1. 1.]\n",
      " [1. 1.]], shape=(3, 2), dtype=float32)\n"
     ]
    }
   ],
   "source": [
    "print(tensor1)\n",
    "print(  '\\n'  )\n",
    "print(tensor2)\n",
    "print(  '\\n'  )\n",
    "print(tensor3)"
   ]
  },
  {
   "cell_type": "code",
   "execution_count": 93,
   "id": "8b6369f4-9247-4daf-b79b-9e0c5e940831",
   "metadata": {},
   "outputs": [
    {
     "name": "stdout",
     "output_type": "stream",
     "text": [
      "tf.Tensor(2, shape=(), dtype=int32)\n",
      "(4, 5)\n"
     ]
    }
   ],
   "source": [
    "#slicing tensor\n",
    "matrix = [[1,2,3,4,5],\n",
    "          [6,7,8,9,10],\n",
    "          [11,12,13,14,15],\n",
    "          [16,17,18,19,20]]\n",
    "tensor = tf.Variable(matrix,dtype = tf.int32)\n",
    "print(tf.rank(tensor)) \n",
    "print(tensor.shape)\n",
    "\n",
    "#The tensor has a shape of (), meaning it is a scalar tensor.A scalar tensor contains a single value, so it has no dimensions."
   ]
  },
  {
   "cell_type": "code",
   "execution_count": 95,
   "id": "9c34bb3d-513e-44f7-be20-02bc1da3d8b6",
   "metadata": {},
   "outputs": [
    {
     "name": "stdout",
     "output_type": "stream",
     "text": [
      "tf.Tensor(3, shape=(), dtype=int32)\n"
     ]
    }
   ],
   "source": [
    "three = tensor[0,2]\n",
    "print(three)"
   ]
  },
  {
   "cell_type": "code",
   "execution_count": 99,
   "id": "b19146aa-69d2-4cdc-b427-f44b29e76aec",
   "metadata": {},
   "outputs": [
    {
     "name": "stdout",
     "output_type": "stream",
     "text": [
      "tf.Tensor([1 2 3 4 5], shape=(5,), dtype=int32)\n"
     ]
    }
   ],
   "source": [
    "row1  = tensor[0]\n",
    "print(row1)"
   ]
  },
  {
   "cell_type": "code",
   "execution_count": 103,
   "id": "d068079a-f889-4236-b308-073a55ac470e",
   "metadata": {},
   "outputs": [
    {
     "name": "stdout",
     "output_type": "stream",
     "text": [
      "tf.Tensor([ 6  7  8  9 10], shape=(5,), dtype=int32)\n"
     ]
    }
   ],
   "source": [
    "row2=tensor[1]\n",
    "print(row2)"
   ]
  },
  {
   "cell_type": "code",
   "execution_count": 105,
   "id": "7f0721d0-4948-4963-8112-bd43bb42ab72",
   "metadata": {},
   "outputs": [
    {
     "name": "stdout",
     "output_type": "stream",
     "text": [
      "tf.Tensor([ 1  6 11 16], shape=(4,), dtype=int32)\n"
     ]
    }
   ],
   "source": [
    "col1 = tensor[:,0]\n",
    "print(col1)"
   ]
  },
  {
   "cell_type": "code",
   "execution_count": 107,
   "id": "d70cc81c-4b34-4405-996e-b8060cc0941d",
   "metadata": {},
   "outputs": [
    {
     "name": "stdout",
     "output_type": "stream",
     "text": [
      "tf.Tensor([ 2  7 12 17], shape=(4,), dtype=int32)\n"
     ]
    }
   ],
   "source": [
    "col2 = tensor[:,1]\n",
    "print(col2)"
   ]
  },
  {
   "cell_type": "code",
   "execution_count": 123,
   "id": "fe678944-abdf-49be-86e7-bfdf67539563",
   "metadata": {},
   "outputs": [
    {
     "name": "stdout",
     "output_type": "stream",
     "text": [
      "tf.Tensor(\n",
      "[[ 6  7  8  9 10]\n",
      " [16 17 18 19 20]], shape=(2, 5), dtype=int32)\n"
     ]
    }
   ],
   "source": [
    "row2and5 = tensor[1::2]\n",
    "print(row2and5)"
   ]
  },
  {
   "cell_type": "code",
   "execution_count": null,
   "id": "aa419515-2a47-42a4-a42f-77a958690623",
   "metadata": {},
   "outputs": [],
   "source": []
  }
 ],
 "metadata": {
  "kernelspec": {
   "display_name": "Python [conda env:base] *",
   "language": "python",
   "name": "conda-base-py"
  },
  "language_info": {
   "codemirror_mode": {
    "name": "ipython",
    "version": 3
   },
   "file_extension": ".py",
   "mimetype": "text/x-python",
   "name": "python",
   "nbconvert_exporter": "python",
   "pygments_lexer": "ipython3",
   "version": "3.12.7"
  }
 },
 "nbformat": 4,
 "nbformat_minor": 5
}
